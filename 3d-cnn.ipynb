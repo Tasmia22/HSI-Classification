{
 "cells": [
  {
   "cell_type": "code",
   "execution_count": 1,
   "metadata": {
    "_cell_guid": "b1076dfc-b9ad-4769-8c92-a6c4dae69d19",
    "_uuid": "8f2839f25d086af736a60e9eeb907d3b93b6e0e5"
   },
   "outputs": [
    {
     "name": "stderr",
     "output_type": "stream",
     "text": [
      "Using TensorFlow backend.\n"
     ]
    }
   ],
   "source": [
    "import keras\n",
    "from keras.layers import Conv3D,MaxPool3D,Flatten, Dense, Reshape\n",
    "from keras.layers import Dropout, Input,BatchNormalization\n",
    "from keras.models import Model\n",
    "from keras.optimizers import Adam\n",
    "from keras.callbacks import ModelCheckpoint\n",
    "from keras.utils import np_utils"
   ]
  },
  {
   "cell_type": "code",
   "execution_count": 2,
   "metadata": {
    "_cell_guid": "79c7e3d0-c299-4dcb-8224-4455121ee9b0",
    "_uuid": "d629ff2d2480ee46fbb7e2d37f6b5fab8052498a"
   },
   "outputs": [
    {
     "data": {
      "text/html": [
       "        <script type=\"text/javascript\">\n",
       "        window.PlotlyConfig = {MathJaxConfig: 'local'};\n",
       "        if (window.MathJax) {MathJax.Hub.Config({SVG: {font: \"STIX-Web\"}});}\n",
       "        if (typeof require !== 'undefined') {\n",
       "        require.undef(\"plotly\");\n",
       "        requirejs.config({\n",
       "            paths: {\n",
       "                'plotly': ['https://cdn.plot.ly/plotly-latest.min']\n",
       "            }\n",
       "        });\n",
       "        require(['plotly'], function(Plotly) {\n",
       "            window._Plotly = Plotly;\n",
       "        });\n",
       "        }\n",
       "        </script>\n",
       "        "
      ]
     },
     "metadata": {},
     "output_type": "display_data"
    }
   ],
   "source": [
    "from sklearn.decomposition import PCA\n",
    "from sklearn.model_selection import train_test_split\n",
    "from sklearn.metrics import confusion_matrix, accuracy_score, classification_report, cohen_kappa_score\n",
    "\n",
    "from operator import truediv\n",
    "\n",
    "\n",
    "from plotly.offline import init_notebook_mode\n",
    "\n",
    "import numpy as np\n",
    "import matplotlib.pyplot as plt\n",
    "import scipy.io as sio\n",
    "import os\n",
    "import spectral\n",
    "\n",
    "init_notebook_mode(connected=True)\n",
    "%matplotlib inline"
   ]
  },
  {
   "cell_type": "code",
   "execution_count": 3,
   "metadata": {},
   "outputs": [],
   "source": [
    "## GLOBAL VARIABLES\n",
    "dataset = 'IP'\n",
    "test_ratio = 0.7\n",
    "windowSize = 25"
   ]
  },
  {
   "cell_type": "code",
   "execution_count": 4,
   "metadata": {},
   "outputs": [],
   "source": [
    "def loadData(name):\n",
    "    \n",
    "    if name == 'IP':\n",
    "        data = sio.loadmat('../input/hsi-dataset/Indian_pines_corrected.mat')['indian_pines_corrected']\n",
    "        labels = sio.loadmat('../input/hsi-dataset/Indian_pines_gt.mat')['indian_pines_gt']\n",
    "    elif name == 'SA':\n",
    "        data = sio.loadmat(os.path.join(data_path, 'Salinas_corrected.mat'))['salinas_corrected']\n",
    "        labels = sio.loadmat(os.path.join(data_path, 'Salinas_gt.mat'))['salinas_gt']\n",
    "    elif name == 'PU':\n",
    "        data = sio.loadmat(os.path.join(data_path, 'PaviaU.mat'))['paviaU']\n",
    "        labels = sio.loadmat(os.path.join(data_path, 'PaviaU_gt.mat'))['paviaU_gt']\n",
    "    \n",
    "    return data, labels"
   ]
  },
  {
   "cell_type": "code",
   "execution_count": 5,
   "metadata": {},
   "outputs": [],
   "source": [
    "def splitTrainTestSet(X, y, testRatio, randomState=345):\n",
    "    X_train, X_test, y_train, y_test = train_test_split(X, y, test_size=testRatio, random_state=randomState,\n",
    "                                                        stratify=y)\n",
    "    return X_train, X_test, y_train, y_test"
   ]
  },
  {
   "cell_type": "code",
   "execution_count": 6,
   "metadata": {},
   "outputs": [],
   "source": [
    "def applyPCA(X, numComponents=75):\n",
    "    newX = np.reshape(X, (-1, X.shape[2]))\n",
    "    pca = PCA(n_components=numComponents, whiten=True)\n",
    "    newX = pca.fit_transform(newX)\n",
    "    newX = np.reshape(newX, (X.shape[0],X.shape[1], numComponents))\n",
    "    return newX, pca"
   ]
  },
  {
   "cell_type": "code",
   "execution_count": 7,
   "metadata": {},
   "outputs": [],
   "source": [
    "def padWithZeros(X, margin=2):\n",
    "    newX = np.zeros((X.shape[0] + 2 * margin, X.shape[1] + 2* margin, X.shape[2]))\n",
    "    x_offset = margin\n",
    "    y_offset = margin\n",
    "    newX[x_offset:X.shape[0] + x_offset, y_offset:X.shape[1] + y_offset, :] = X\n",
    "    return newX"
   ]
  },
  {
   "cell_type": "code",
   "execution_count": 8,
   "metadata": {},
   "outputs": [],
   "source": [
    "def createImageCubes(X, y, windowSize=5, removeZeroLabels = True):\n",
    "    margin = int((windowSize - 1) / 2)\n",
    "    zeroPaddedX = padWithZeros(X, margin=margin)\n",
    "    # split patches\n",
    "    patchesData = np.zeros((X.shape[0] * X.shape[1], windowSize, windowSize, X.shape[2]))\n",
    "    patchesLabels = np.zeros((X.shape[0] * X.shape[1]))\n",
    "    patchIndex = 0\n",
    "    for r in range(margin, zeroPaddedX.shape[0] - margin):\n",
    "        for c in range(margin, zeroPaddedX.shape[1] - margin):\n",
    "            patch = zeroPaddedX[r - margin:r + margin + 1, c - margin:c + margin + 1]   \n",
    "            patchesData[patchIndex, :, :, :] = patch\n",
    "            patchesLabels[patchIndex] = y[r-margin, c-margin]\n",
    "            patchIndex = patchIndex + 1\n",
    "    if removeZeroLabels:\n",
    "        patchesData = patchesData[patchesLabels>0,:,:,:]\n",
    "        patchesLabels = patchesLabels[patchesLabels>0]\n",
    "        patchesLabels -= 1\n",
    "    return patchesData, patchesLabels"
   ]
  },
  {
   "cell_type": "code",
   "execution_count": 9,
   "metadata": {},
   "outputs": [],
   "source": [
    "X, y = loadData(dataset)"
   ]
  },
  {
   "cell_type": "code",
   "execution_count": 10,
   "metadata": {},
   "outputs": [
    {
     "data": {
      "text/plain": [
       "((145, 145, 200), (145, 145))"
      ]
     },
     "execution_count": 10,
     "metadata": {},
     "output_type": "execute_result"
    }
   ],
   "source": [
    "X.shape, y.shape"
   ]
  },
  {
   "cell_type": "code",
   "execution_count": 11,
   "metadata": {},
   "outputs": [],
   "source": [
    "K = X.shape[2]"
   ]
  },
  {
   "cell_type": "code",
   "execution_count": 12,
   "metadata": {},
   "outputs": [],
   "source": [
    "K = 30 if dataset == 'IP' else 15\n",
    "X,pca = applyPCA(X,numComponents=K)"
   ]
  },
  {
   "cell_type": "code",
   "execution_count": 13,
   "metadata": {},
   "outputs": [
    {
     "data": {
      "text/plain": [
       "((10249, 25, 25, 30), (10249,))"
      ]
     },
     "execution_count": 13,
     "metadata": {},
     "output_type": "execute_result"
    }
   ],
   "source": [
    "X, y = createImageCubes(X, y, windowSize=windowSize)\n",
    "\n",
    "X.shape, y.shape"
   ]
  },
  {
   "cell_type": "code",
   "execution_count": 14,
   "metadata": {},
   "outputs": [
    {
     "data": {
      "text/plain": [
       "((3074, 25, 25, 30), (7175, 25, 25, 30), (3074,), (7175,))"
      ]
     },
     "execution_count": 14,
     "metadata": {},
     "output_type": "execute_result"
    }
   ],
   "source": [
    "Xtrain, Xtest, ytrain, ytest = splitTrainTestSet(X, y, test_ratio)\n",
    "\n",
    "Xtrain.shape, Xtest.shape, ytrain.shape, ytest.shape"
   ]
  },
  {
   "cell_type": "markdown",
   "metadata": {},
   "source": [
    "**MOdel and traing**"
   ]
  },
  {
   "cell_type": "code",
   "execution_count": 15,
   "metadata": {},
   "outputs": [
    {
     "data": {
      "text/plain": [
       "(3074, 25, 25, 30, 1)"
      ]
     },
     "execution_count": 15,
     "metadata": {},
     "output_type": "execute_result"
    }
   ],
   "source": [
    "Xtrain = Xtrain.reshape(-1, windowSize, windowSize, K, 1)\n",
    "Xtrain.shape"
   ]
  },
  {
   "cell_type": "code",
   "execution_count": 16,
   "metadata": {},
   "outputs": [
    {
     "data": {
      "text/plain": [
       "(3074, 16)"
      ]
     },
     "execution_count": 16,
     "metadata": {},
     "output_type": "execute_result"
    }
   ],
   "source": [
    "ytrain = np_utils.to_categorical(ytrain)\n",
    "ytrain.shape"
   ]
  },
  {
   "cell_type": "code",
   "execution_count": 17,
   "metadata": {},
   "outputs": [],
   "source": [
    "S = windowSize\n",
    "L = K\n",
    "output_units = 9 if (dataset == 'PU' or dataset == 'PC') else 16"
   ]
  },
  {
   "cell_type": "code",
   "execution_count": 18,
   "metadata": {},
   "outputs": [],
   "source": [
    "## input layer\n",
    "input_layer = Input((S, S, L, 1))\n",
    "\n",
    "## convolutional layers\n",
    "conv_layer1 = Conv3D(filters=8, kernel_size=(3, 3, 7), activation='relu')(input_layer)\n",
    "conv_layer2 = Conv3D(filters=16, kernel_size=(3, 3, 5), activation='relu')(conv_layer1)\n",
    "pooling_layer1 = MaxPool3D(pool_size=(2, 2, 2))(conv_layer2)\n",
    "conv_layer3 = Conv3D(filters=32, kernel_size=(3, 3, 3), activation='relu')(conv_layer2)\n",
    "pooling_layer2 = MaxPool3D(pool_size=(2, 2, 2))(conv_layer3)\n",
    "pooling_layer2 = BatchNormalization()(pooling_layer2)\n",
    "flatten_layer = Flatten()(pooling_layer2) \n",
    "\n",
    "## fully connected layers\n",
    "dense_layer1 = Dense(units=256, activation='relu')(flatten_layer)\n",
    "dense_layer1 = Dropout(0.4)(dense_layer1)\n",
    "dense_layer2 = Dense(units=128, activation='relu')(dense_layer1)\n",
    "dense_layer2 = Dropout(0.4)(dense_layer2)\n",
    "output_layer = Dense(units=output_units, activation='softmax')(dense_layer2)"
   ]
  },
  {
   "cell_type": "code",
   "execution_count": 19,
   "metadata": {},
   "outputs": [],
   "source": [
    "# define the model with input layer and output layer\n",
    "model = Model(inputs=input_layer, outputs=output_layer)"
   ]
  },
  {
   "cell_type": "code",
   "execution_count": 20,
   "metadata": {},
   "outputs": [
    {
     "name": "stdout",
     "output_type": "stream",
     "text": [
      "Model: \"model_1\"\n",
      "_________________________________________________________________\n",
      "Layer (type)                 Output Shape              Param #   \n",
      "=================================================================\n",
      "input_1 (InputLayer)         (None, 25, 25, 30, 1)     0         \n",
      "_________________________________________________________________\n",
      "conv3d_1 (Conv3D)            (None, 23, 23, 24, 8)     512       \n",
      "_________________________________________________________________\n",
      "conv3d_2 (Conv3D)            (None, 21, 21, 20, 16)    5776      \n",
      "_________________________________________________________________\n",
      "conv3d_3 (Conv3D)            (None, 19, 19, 18, 32)    13856     \n",
      "_________________________________________________________________\n",
      "max_pooling3d_2 (MaxPooling3 (None, 9, 9, 9, 32)       0         \n",
      "_________________________________________________________________\n",
      "batch_normalization_1 (Batch (None, 9, 9, 9, 32)       128       \n",
      "_________________________________________________________________\n",
      "flatten_1 (Flatten)          (None, 23328)             0         \n",
      "_________________________________________________________________\n",
      "dense_1 (Dense)              (None, 256)               5972224   \n",
      "_________________________________________________________________\n",
      "dropout_1 (Dropout)          (None, 256)               0         \n",
      "_________________________________________________________________\n",
      "dense_2 (Dense)              (None, 128)               32896     \n",
      "_________________________________________________________________\n",
      "dropout_2 (Dropout)          (None, 128)               0         \n",
      "_________________________________________________________________\n",
      "dense_3 (Dense)              (None, 16)                2064      \n",
      "=================================================================\n",
      "Total params: 6,027,456\n",
      "Trainable params: 6,027,392\n",
      "Non-trainable params: 64\n",
      "_________________________________________________________________\n"
     ]
    }
   ],
   "source": [
    "model.summary()"
   ]
  },
  {
   "cell_type": "code",
   "execution_count": 21,
   "metadata": {},
   "outputs": [],
   "source": [
    "adam = Adam(lr=0.001, decay=1e-06)\n",
    "model.compile(loss='categorical_crossentropy', optimizer=adam, metrics=['accuracy'])"
   ]
  },
  {
   "cell_type": "code",
   "execution_count": 22,
   "metadata": {},
   "outputs": [],
   "source": [
    "# checkpoint\n",
    "filepath = \"best-model.hdf5\"\n",
    "checkpoint = ModelCheckpoint(filepath, monitor='accuracy', verbose=1, save_best_only=True, mode='max')\n",
    "callbacks_list = [checkpoint]"
   ]
  },
  {
   "cell_type": "code",
   "execution_count": 23,
   "metadata": {},
   "outputs": [
    {
     "name": "stdout",
     "output_type": "stream",
     "text": [
      "Epoch 1/100\n",
      "3074/3074 [==============================] - 6s 2ms/step - loss: 2.0102 - accuracy: 0.5377\n",
      "\n",
      "Epoch 00001: accuracy improved from -inf to 0.53774, saving model to best-model.hdf5\n",
      "Epoch 2/100\n",
      "3074/3074 [==============================] - 2s 575us/step - loss: 0.4566 - accuracy: 0.8559\n",
      "\n",
      "Epoch 00002: accuracy improved from 0.53774 to 0.85589, saving model to best-model.hdf5\n",
      "Epoch 3/100\n",
      "3074/3074 [==============================] - 2s 573us/step - loss: 0.2189 - accuracy: 0.9314\n",
      "\n",
      "Epoch 00003: accuracy improved from 0.85589 to 0.93136, saving model to best-model.hdf5\n",
      "Epoch 4/100\n",
      "3074/3074 [==============================] - 2s 564us/step - loss: 0.0988 - accuracy: 0.9681\n",
      "\n",
      "Epoch 00004: accuracy improved from 0.93136 to 0.96812, saving model to best-model.hdf5\n",
      "Epoch 5/100\n",
      "3074/3074 [==============================] - 2s 558us/step - loss: 0.0585 - accuracy: 0.9818\n",
      "\n",
      "Epoch 00005: accuracy improved from 0.96812 to 0.98178, saving model to best-model.hdf5\n",
      "Epoch 6/100\n",
      "3074/3074 [==============================] - 2s 575us/step - loss: 0.0484 - accuracy: 0.9828\n",
      "\n",
      "Epoch 00006: accuracy improved from 0.98178 to 0.98276, saving model to best-model.hdf5\n",
      "Epoch 7/100\n",
      "3074/3074 [==============================] - 2s 549us/step - loss: 0.0907 - accuracy: 0.9730\n",
      "\n",
      "Epoch 00007: accuracy did not improve from 0.98276\n",
      "Epoch 8/100\n",
      "3074/3074 [==============================] - 2s 549us/step - loss: 0.0693 - accuracy: 0.9805\n",
      "\n",
      "Epoch 00008: accuracy did not improve from 0.98276\n",
      "Epoch 9/100\n",
      "3074/3074 [==============================] - 2s 548us/step - loss: 0.0596 - accuracy: 0.9785\n",
      "\n",
      "Epoch 00009: accuracy did not improve from 0.98276\n",
      "Epoch 10/100\n",
      "3074/3074 [==============================] - 2s 548us/step - loss: 0.0464 - accuracy: 0.9880\n",
      "\n",
      "Epoch 00010: accuracy improved from 0.98276 to 0.98796, saving model to best-model.hdf5\n",
      "Epoch 11/100\n",
      "3074/3074 [==============================] - 2s 556us/step - loss: 0.0263 - accuracy: 0.9922\n",
      "\n",
      "Epoch 00011: accuracy improved from 0.98796 to 0.99219, saving model to best-model.hdf5\n",
      "Epoch 12/100\n",
      "3074/3074 [==============================] - 2s 533us/step - loss: 0.0222 - accuracy: 0.9954\n",
      "\n",
      "Epoch 00012: accuracy improved from 0.99219 to 0.99545, saving model to best-model.hdf5\n",
      "Epoch 13/100\n",
      "3074/3074 [==============================] - 2s 547us/step - loss: 0.0219 - accuracy: 0.9932\n",
      "\n",
      "Epoch 00013: accuracy did not improve from 0.99545\n",
      "Epoch 14/100\n",
      "3074/3074 [==============================] - 2s 550us/step - loss: 0.0111 - accuracy: 0.9958\n",
      "\n",
      "Epoch 00014: accuracy improved from 0.99545 to 0.99577, saving model to best-model.hdf5\n",
      "Epoch 15/100\n",
      "3074/3074 [==============================] - 2s 533us/step - loss: 0.0158 - accuracy: 0.9945\n",
      "\n",
      "Epoch 00015: accuracy did not improve from 0.99577\n",
      "Epoch 16/100\n",
      "3074/3074 [==============================] - 2s 529us/step - loss: 0.0197 - accuracy: 0.9954\n",
      "\n",
      "Epoch 00016: accuracy did not improve from 0.99577\n",
      "Epoch 17/100\n",
      "3074/3074 [==============================] - 2s 545us/step - loss: 0.0159 - accuracy: 0.9951\n",
      "\n",
      "Epoch 00017: accuracy did not improve from 0.99577\n",
      "Epoch 18/100\n",
      "3074/3074 [==============================] - 2s 536us/step - loss: 0.0085 - accuracy: 0.9977\n",
      "\n",
      "Epoch 00018: accuracy improved from 0.99577 to 0.99772, saving model to best-model.hdf5\n",
      "Epoch 19/100\n",
      "3074/3074 [==============================] - 2s 577us/step - loss: 0.0138 - accuracy: 0.9971\n",
      "\n",
      "Epoch 00019: accuracy did not improve from 0.99772\n",
      "Epoch 20/100\n",
      "3074/3074 [==============================] - 2s 558us/step - loss: 0.0102 - accuracy: 0.9971\n",
      "\n",
      "Epoch 00020: accuracy did not improve from 0.99772\n",
      "Epoch 21/100\n",
      "3074/3074 [==============================] - 2s 553us/step - loss: 0.0102 - accuracy: 0.9974\n",
      "\n",
      "Epoch 00021: accuracy did not improve from 0.99772\n",
      "Epoch 22/100\n",
      "3074/3074 [==============================] - 2s 552us/step - loss: 0.0105 - accuracy: 0.9967\n",
      "\n",
      "Epoch 00022: accuracy did not improve from 0.99772\n",
      "Epoch 23/100\n",
      "3074/3074 [==============================] - 2s 558us/step - loss: 0.0070 - accuracy: 0.9980\n",
      "\n",
      "Epoch 00023: accuracy improved from 0.99772 to 0.99805, saving model to best-model.hdf5\n",
      "Epoch 24/100\n",
      "3074/3074 [==============================] - 2s 575us/step - loss: 0.0052 - accuracy: 0.9984\n",
      "\n",
      "Epoch 00024: accuracy improved from 0.99805 to 0.99837, saving model to best-model.hdf5\n",
      "Epoch 25/100\n",
      "3074/3074 [==============================] - 2s 572us/step - loss: 0.0163 - accuracy: 0.9954\n",
      "\n",
      "Epoch 00025: accuracy did not improve from 0.99837\n",
      "Epoch 26/100\n",
      "3074/3074 [==============================] - 2s 573us/step - loss: 0.0100 - accuracy: 0.9977\n",
      "\n",
      "Epoch 00026: accuracy did not improve from 0.99837\n",
      "Epoch 27/100\n",
      "3074/3074 [==============================] - 2s 570us/step - loss: 0.0105 - accuracy: 0.9977\n",
      "\n",
      "Epoch 00027: accuracy did not improve from 0.99837\n",
      "Epoch 28/100\n",
      "3074/3074 [==============================] - 2s 574us/step - loss: 0.0050 - accuracy: 0.9980\n",
      "\n",
      "Epoch 00028: accuracy did not improve from 0.99837\n",
      "Epoch 29/100\n",
      "3074/3074 [==============================] - 2s 580us/step - loss: 0.0040 - accuracy: 0.9980\n",
      "\n",
      "Epoch 00029: accuracy did not improve from 0.99837\n",
      "Epoch 30/100\n",
      "3074/3074 [==============================] - 2s 575us/step - loss: 0.0096 - accuracy: 0.9971\n",
      "\n",
      "Epoch 00030: accuracy did not improve from 0.99837\n",
      "Epoch 31/100\n",
      "3074/3074 [==============================] - 2s 576us/step - loss: 0.0106 - accuracy: 0.9977\n",
      "\n",
      "Epoch 00031: accuracy did not improve from 0.99837\n",
      "Epoch 32/100\n",
      "3074/3074 [==============================] - 2s 576us/step - loss: 0.0093 - accuracy: 0.9974\n",
      "\n",
      "Epoch 00032: accuracy did not improve from 0.99837\n",
      "Epoch 33/100\n",
      "3074/3074 [==============================] - 2s 575us/step - loss: 0.0073 - accuracy: 0.9974\n",
      "\n",
      "Epoch 00033: accuracy did not improve from 0.99837\n",
      "Epoch 34/100\n",
      "3074/3074 [==============================] - 2s 576us/step - loss: 0.0065 - accuracy: 0.9974\n",
      "\n",
      "Epoch 00034: accuracy did not improve from 0.99837\n",
      "Epoch 35/100\n",
      "3074/3074 [==============================] - 2s 584us/step - loss: 0.0063 - accuracy: 0.9974\n",
      "\n",
      "Epoch 00035: accuracy did not improve from 0.99837\n",
      "Epoch 36/100\n",
      "3074/3074 [==============================] - 2s 587us/step - loss: 0.0095 - accuracy: 0.9964\n",
      "\n",
      "Epoch 00036: accuracy did not improve from 0.99837\n",
      "Epoch 37/100\n",
      "3074/3074 [==============================] - 2s 571us/step - loss: 0.0085 - accuracy: 0.9974\n",
      "\n",
      "Epoch 00037: accuracy did not improve from 0.99837\n",
      "Epoch 38/100\n",
      "3074/3074 [==============================] - 2s 573us/step - loss: 0.0044 - accuracy: 0.9987\n",
      "\n",
      "Epoch 00038: accuracy improved from 0.99837 to 0.99870, saving model to best-model.hdf5\n",
      "Epoch 39/100\n",
      "3074/3074 [==============================] - 2s 534us/step - loss: 0.0077 - accuracy: 0.9977\n",
      "\n",
      "Epoch 00039: accuracy did not improve from 0.99870\n",
      "Epoch 40/100\n",
      "3074/3074 [==============================] - 2s 532us/step - loss: 0.0056 - accuracy: 0.9980\n",
      "\n",
      "Epoch 00040: accuracy did not improve from 0.99870\n",
      "Epoch 41/100\n",
      "3074/3074 [==============================] - 2s 534us/step - loss: 0.0134 - accuracy: 0.9971\n",
      "\n",
      "Epoch 00041: accuracy did not improve from 0.99870\n",
      "Epoch 42/100\n",
      "3074/3074 [==============================] - 2s 540us/step - loss: 0.0091 - accuracy: 0.9967\n",
      "\n",
      "Epoch 00042: accuracy did not improve from 0.99870\n",
      "Epoch 43/100\n",
      "3074/3074 [==============================] - 2s 536us/step - loss: 0.0101 - accuracy: 0.9971\n",
      "\n",
      "Epoch 00043: accuracy did not improve from 0.99870\n",
      "Epoch 44/100\n",
      "3074/3074 [==============================] - 2s 534us/step - loss: 0.0103 - accuracy: 0.9974\n",
      "\n",
      "Epoch 00044: accuracy did not improve from 0.99870\n",
      "Epoch 45/100\n",
      "3074/3074 [==============================] - 2s 534us/step - loss: 0.0095 - accuracy: 0.9964\n",
      "\n",
      "Epoch 00045: accuracy did not improve from 0.99870\n",
      "Epoch 46/100\n",
      "3074/3074 [==============================] - 2s 534us/step - loss: 0.0071 - accuracy: 0.9984\n",
      "\n",
      "Epoch 00046: accuracy did not improve from 0.99870\n",
      "Epoch 47/100\n",
      "3074/3074 [==============================] - 2s 533us/step - loss: 0.0120 - accuracy: 0.9971\n",
      "\n",
      "Epoch 00047: accuracy did not improve from 0.99870\n",
      "Epoch 48/100\n",
      "3074/3074 [==============================] - 2s 537us/step - loss: 0.0037 - accuracy: 0.9984\n",
      "\n",
      "Epoch 00048: accuracy did not improve from 0.99870\n",
      "Epoch 49/100\n",
      "3074/3074 [==============================] - 2s 537us/step - loss: 0.0039 - accuracy: 0.9997\n",
      "\n",
      "Epoch 00049: accuracy improved from 0.99870 to 0.99967, saving model to best-model.hdf5\n",
      "Epoch 50/100\n",
      "3074/3074 [==============================] - 2s 535us/step - loss: 0.0040 - accuracy: 0.9980\n",
      "\n",
      "Epoch 00050: accuracy did not improve from 0.99967\n",
      "Epoch 51/100\n",
      "3074/3074 [==============================] - 2s 534us/step - loss: 0.0969 - accuracy: 0.9789\n",
      "\n",
      "Epoch 00051: accuracy did not improve from 0.99967\n",
      "Epoch 52/100\n",
      "3074/3074 [==============================] - 2s 533us/step - loss: 0.0526 - accuracy: 0.9850\n",
      "\n",
      "Epoch 00052: accuracy did not improve from 0.99967\n",
      "Epoch 53/100\n",
      "3074/3074 [==============================] - 2s 537us/step - loss: 0.0222 - accuracy: 0.9935\n",
      "\n",
      "Epoch 00053: accuracy did not improve from 0.99967\n",
      "Epoch 54/100\n",
      "3074/3074 [==============================] - 2s 588us/step - loss: 0.0214 - accuracy: 0.9935\n",
      "\n",
      "Epoch 00054: accuracy did not improve from 0.99967\n",
      "Epoch 55/100\n",
      "3074/3074 [==============================] - 2s 539us/step - loss: 0.0118 - accuracy: 0.9954\n",
      "\n",
      "Epoch 00055: accuracy did not improve from 0.99967\n",
      "Epoch 56/100\n",
      "3074/3074 [==============================] - 2s 538us/step - loss: 0.0134 - accuracy: 0.9961\n",
      "\n",
      "Epoch 00056: accuracy did not improve from 0.99967\n",
      "Epoch 57/100\n",
      "3074/3074 [==============================] - 2s 547us/step - loss: 0.0131 - accuracy: 0.9974\n",
      "\n",
      "Epoch 00057: accuracy did not improve from 0.99967\n",
      "Epoch 58/100\n",
      "3074/3074 [==============================] - 2s 541us/step - loss: 0.0152 - accuracy: 0.9964\n",
      "\n",
      "Epoch 00058: accuracy did not improve from 0.99967\n",
      "Epoch 59/100\n",
      "3074/3074 [==============================] - 2s 536us/step - loss: 0.0076 - accuracy: 0.9974\n",
      "\n",
      "Epoch 00059: accuracy did not improve from 0.99967\n",
      "Epoch 60/100\n",
      "3074/3074 [==============================] - 2s 534us/step - loss: 0.0099 - accuracy: 0.9984\n",
      "\n",
      "Epoch 00060: accuracy did not improve from 0.99967\n",
      "Epoch 61/100\n",
      "3074/3074 [==============================] - 2s 534us/step - loss: 0.0042 - accuracy: 0.9984\n",
      "\n",
      "Epoch 00061: accuracy did not improve from 0.99967\n",
      "Epoch 62/100\n",
      "3074/3074 [==============================] - 2s 537us/step - loss: 0.0054 - accuracy: 0.9971\n",
      "\n",
      "Epoch 00062: accuracy did not improve from 0.99967\n",
      "Epoch 63/100\n",
      "3074/3074 [==============================] - 2s 532us/step - loss: 0.0038 - accuracy: 0.9993\n",
      "\n",
      "Epoch 00063: accuracy did not improve from 0.99967\n",
      "Epoch 64/100\n",
      "3074/3074 [==============================] - 2s 532us/step - loss: 0.0059 - accuracy: 0.9984\n",
      "\n",
      "Epoch 00064: accuracy did not improve from 0.99967\n",
      "Epoch 65/100\n",
      "3074/3074 [==============================] - 2s 535us/step - loss: 0.0160 - accuracy: 0.9974\n",
      "\n",
      "Epoch 00065: accuracy did not improve from 0.99967\n",
      "Epoch 66/100\n",
      "3074/3074 [==============================] - 2s 537us/step - loss: 0.0024 - accuracy: 0.9997\n",
      "\n",
      "Epoch 00066: accuracy did not improve from 0.99967\n",
      "Epoch 67/100\n",
      "3074/3074 [==============================] - 2s 534us/step - loss: 0.0042 - accuracy: 0.9990\n",
      "\n",
      "Epoch 00067: accuracy did not improve from 0.99967\n",
      "Epoch 68/100\n",
      "3074/3074 [==============================] - 2s 535us/step - loss: 0.0033 - accuracy: 0.9990\n",
      "\n",
      "Epoch 00068: accuracy did not improve from 0.99967\n",
      "Epoch 69/100\n",
      "3074/3074 [==============================] - 2s 535us/step - loss: 0.0055 - accuracy: 0.9984\n",
      "\n",
      "Epoch 00069: accuracy did not improve from 0.99967\n",
      "Epoch 70/100\n",
      "3074/3074 [==============================] - 2s 533us/step - loss: 0.0076 - accuracy: 0.9984\n",
      "\n",
      "Epoch 00070: accuracy did not improve from 0.99967\n",
      "Epoch 71/100\n",
      "3074/3074 [==============================] - 2s 539us/step - loss: 0.0105 - accuracy: 0.9984\n",
      "\n",
      "Epoch 00071: accuracy did not improve from 0.99967\n",
      "Epoch 72/100\n",
      "3074/3074 [==============================] - 2s 535us/step - loss: 0.0085 - accuracy: 0.9984\n",
      "\n",
      "Epoch 00072: accuracy did not improve from 0.99967\n",
      "Epoch 73/100\n",
      "3074/3074 [==============================] - 2s 539us/step - loss: 0.0095 - accuracy: 0.9980\n",
      "\n",
      "Epoch 00073: accuracy did not improve from 0.99967\n",
      "Epoch 74/100\n",
      "3074/3074 [==============================] - 2s 530us/step - loss: 0.0029 - accuracy: 0.9987\n",
      "\n",
      "Epoch 00074: accuracy did not improve from 0.99967\n",
      "Epoch 75/100\n",
      "3074/3074 [==============================] - 2s 536us/step - loss: 0.0068 - accuracy: 0.9980\n",
      "\n",
      "Epoch 00075: accuracy did not improve from 0.99967\n",
      "Epoch 76/100\n",
      "3074/3074 [==============================] - 2s 534us/step - loss: 0.0108 - accuracy: 0.9971\n",
      "\n",
      "Epoch 00076: accuracy did not improve from 0.99967\n",
      "Epoch 77/100\n",
      "3074/3074 [==============================] - 2s 534us/step - loss: 0.0013 - accuracy: 0.9993\n",
      "\n",
      "Epoch 00077: accuracy did not improve from 0.99967\n",
      "Epoch 78/100\n",
      "3074/3074 [==============================] - 2s 533us/step - loss: 0.0087 - accuracy: 0.9974\n",
      "\n",
      "Epoch 00078: accuracy did not improve from 0.99967\n",
      "Epoch 79/100\n",
      "3074/3074 [==============================] - 2s 534us/step - loss: 0.0029 - accuracy: 0.9993\n",
      "\n",
      "Epoch 00079: accuracy did not improve from 0.99967\n",
      "Epoch 80/100\n",
      "3074/3074 [==============================] - 2s 533us/step - loss: 0.0054 - accuracy: 0.9984\n",
      "\n",
      "Epoch 00080: accuracy did not improve from 0.99967\n",
      "Epoch 81/100\n",
      "3074/3074 [==============================] - 2s 533us/step - loss: 0.0045 - accuracy: 0.9987\n",
      "\n",
      "Epoch 00081: accuracy did not improve from 0.99967\n",
      "Epoch 82/100\n",
      "3074/3074 [==============================] - 2s 538us/step - loss: 0.0075 - accuracy: 0.9980\n",
      "\n",
      "Epoch 00082: accuracy did not improve from 0.99967\n",
      "Epoch 83/100\n",
      "3074/3074 [==============================] - 2s 532us/step - loss: 0.0029 - accuracy: 0.9990\n",
      "\n",
      "Epoch 00083: accuracy did not improve from 0.99967\n",
      "Epoch 84/100\n",
      "3074/3074 [==============================] - 2s 534us/step - loss: 0.0069 - accuracy: 0.9984\n",
      "\n",
      "Epoch 00084: accuracy did not improve from 0.99967\n",
      "Epoch 85/100\n",
      "3074/3074 [==============================] - 2s 535us/step - loss: 0.0064 - accuracy: 0.9980\n",
      "\n",
      "Epoch 00085: accuracy did not improve from 0.99967\n",
      "Epoch 86/100\n",
      "3074/3074 [==============================] - 2s 533us/step - loss: 0.0026 - accuracy: 0.9990\n",
      "\n",
      "Epoch 00086: accuracy did not improve from 0.99967\n",
      "Epoch 87/100\n",
      "3074/3074 [==============================] - 2s 534us/step - loss: 0.0029 - accuracy: 0.9993\n",
      "\n",
      "Epoch 00087: accuracy did not improve from 0.99967\n",
      "Epoch 88/100\n",
      "3074/3074 [==============================] - 2s 538us/step - loss: 0.0055 - accuracy: 0.9987\n",
      "\n",
      "Epoch 00088: accuracy did not improve from 0.99967\n",
      "Epoch 89/100\n",
      "3074/3074 [==============================] - 2s 532us/step - loss: 0.0048 - accuracy: 0.9990\n",
      "\n",
      "Epoch 00089: accuracy did not improve from 0.99967\n",
      "Epoch 90/100\n",
      "3074/3074 [==============================] - 2s 561us/step - loss: 0.0071 - accuracy: 0.9977\n",
      "\n",
      "Epoch 00090: accuracy did not improve from 0.99967\n",
      "Epoch 91/100\n",
      "3074/3074 [==============================] - 2s 536us/step - loss: 0.0037 - accuracy: 0.9990\n",
      "\n",
      "Epoch 00091: accuracy did not improve from 0.99967\n",
      "Epoch 92/100\n",
      "3074/3074 [==============================] - 2s 572us/step - loss: 0.0061 - accuracy: 0.9984\n",
      "\n",
      "Epoch 00092: accuracy did not improve from 0.99967\n",
      "Epoch 93/100\n",
      "3074/3074 [==============================] - 2s 537us/step - loss: 0.0019 - accuracy: 0.9990\n",
      "\n",
      "Epoch 00093: accuracy did not improve from 0.99967\n",
      "Epoch 94/100\n",
      "3074/3074 [==============================] - 2s 537us/step - loss: 0.0082 - accuracy: 0.9977\n",
      "\n",
      "Epoch 00094: accuracy did not improve from 0.99967\n",
      "Epoch 95/100\n",
      "3074/3074 [==============================] - 2s 542us/step - loss: 0.0052 - accuracy: 0.9993\n",
      "\n",
      "Epoch 00095: accuracy did not improve from 0.99967\n",
      "Epoch 96/100\n",
      "3074/3074 [==============================] - 2s 533us/step - loss: 0.0022 - accuracy: 0.9990\n",
      "\n",
      "Epoch 00096: accuracy did not improve from 0.99967\n",
      "Epoch 97/100\n",
      "3074/3074 [==============================] - 2s 530us/step - loss: 0.0031 - accuracy: 0.9997\n",
      "\n",
      "Epoch 00097: accuracy did not improve from 0.99967\n",
      "Epoch 98/100\n",
      "3074/3074 [==============================] - 2s 529us/step - loss: 0.0044 - accuracy: 0.9984\n",
      "\n",
      "Epoch 00098: accuracy did not improve from 0.99967\n",
      "Epoch 99/100\n",
      "3074/3074 [==============================] - 2s 529us/step - loss: 0.0085 - accuracy: 0.9990\n",
      "\n",
      "Epoch 00099: accuracy did not improve from 0.99967\n",
      "Epoch 100/100\n",
      "3074/3074 [==============================] - 2s 531us/step - loss: 0.0036 - accuracy: 0.9990\n",
      "\n",
      "Epoch 00100: accuracy did not improve from 0.99967\n"
     ]
    }
   ],
   "source": [
    "history = model.fit(x=Xtrain, y=ytrain, batch_size=256, epochs=100, callbacks=callbacks_list)"
   ]
  },
  {
   "cell_type": "markdown",
   "metadata": {},
   "source": [
    "**VALIDATION**"
   ]
  },
  {
   "cell_type": "code",
   "execution_count": 24,
   "metadata": {},
   "outputs": [],
   "source": [
    "# load best weights\n",
    "model.load_weights(\"best-model.hdf5\")\n",
    "model.compile(loss='categorical_crossentropy', optimizer=adam, metrics=['accuracy'])"
   ]
  },
  {
   "cell_type": "code",
   "execution_count": 25,
   "metadata": {},
   "outputs": [
    {
     "data": {
      "text/plain": [
       "(7175, 25, 25, 30, 1)"
      ]
     },
     "execution_count": 25,
     "metadata": {},
     "output_type": "execute_result"
    }
   ],
   "source": [
    "Xtest = Xtest.reshape(-1, windowSize, windowSize, K, 1)\n",
    "Xtest.shape"
   ]
  },
  {
   "cell_type": "code",
   "execution_count": 26,
   "metadata": {},
   "outputs": [
    {
     "data": {
      "text/plain": [
       "(7175, 16)"
      ]
     },
     "execution_count": 26,
     "metadata": {},
     "output_type": "execute_result"
    }
   ],
   "source": [
    "ytest = np_utils.to_categorical(ytest)\n",
    "ytest.shape"
   ]
  },
  {
   "cell_type": "code",
   "execution_count": 27,
   "metadata": {},
   "outputs": [
    {
     "name": "stdout",
     "output_type": "stream",
     "text": [
      "              precision    recall  f1-score   support\n",
      "\n",
      "           0       1.00      1.00      1.00        32\n",
      "           1       0.99      0.99      0.99      1000\n",
      "           2       0.98      0.99      0.99       581\n",
      "           3       0.99      1.00      1.00       166\n",
      "           4       0.99      0.99      0.99       338\n",
      "           5       0.99      0.99      0.99       511\n",
      "           6       1.00      1.00      1.00        20\n",
      "           7       0.99      1.00      1.00       335\n",
      "           8       0.88      1.00      0.93        14\n",
      "           9       0.99      1.00      1.00       680\n",
      "          10       1.00      1.00      1.00      1719\n",
      "          11       0.99      0.97      0.98       415\n",
      "          12       1.00      1.00      1.00       143\n",
      "          13       1.00      0.99      1.00       886\n",
      "          14       1.00      1.00      1.00       270\n",
      "          15       0.98      0.98      0.98        65\n",
      "\n",
      "    accuracy                           0.99      7175\n",
      "   macro avg       0.99      0.99      0.99      7175\n",
      "weighted avg       0.99      0.99      0.99      7175\n",
      "\n"
     ]
    }
   ],
   "source": [
    "Y_pred_test = model.predict(Xtest)\n",
    "y_pred_test = np.argmax(Y_pred_test, axis=1)\n",
    "\n",
    "classification = classification_report(np.argmax(ytest, axis=1), y_pred_test)\n",
    "print(classification)"
   ]
  },
  {
   "cell_type": "code",
   "execution_count": 28,
   "metadata": {},
   "outputs": [],
   "source": [
    "def AA_andEachClassAccuracy(confusion_matrix):\n",
    "    counter = confusion_matrix.shape[0]\n",
    "    list_diag = np.diag(confusion_matrix)\n",
    "    list_raw_sum = np.sum(confusion_matrix, axis=1)\n",
    "    each_acc = np.nan_to_num(truediv(list_diag, list_raw_sum))\n",
    "    average_acc = np.mean(each_acc)\n",
    "    return each_acc, average_acc"
   ]
  },
  {
   "cell_type": "code",
   "execution_count": 29,
   "metadata": {},
   "outputs": [],
   "source": [
    "def reports (X_test,y_test,name):\n",
    "    #start = time.time()\n",
    "    Y_pred = model.predict(X_test)\n",
    "    y_pred = np.argmax(Y_pred, axis=1)\n",
    "    #end = time.time()\n",
    "    #print(end - start)\n",
    "    if name == 'IP':\n",
    "        target_names = ['Alfalfa', 'Corn-notill', 'Corn-mintill', 'Corn'\n",
    "                        ,'Grass-pasture', 'Grass-trees', 'Grass-pasture-mowed', \n",
    "                        'Hay-windrowed', 'Oats', 'Soybean-notill', 'Soybean-mintill',\n",
    "                        'Soybean-clean', 'Wheat', 'Woods', 'Buildings-Grass-Trees-Drives',\n",
    "                        'Stone-Steel-Towers']\n",
    "    elif name == 'SA':\n",
    "        target_names = ['Brocoli_green_weeds_1','Brocoli_green_weeds_2','Fallow','Fallow_rough_plow','Fallow_smooth',\n",
    "                        'Stubble','Celery','Grapes_untrained','Soil_vinyard_develop','Corn_senesced_green_weeds',\n",
    "                        'Lettuce_romaine_4wk','Lettuce_romaine_5wk','Lettuce_romaine_6wk','Lettuce_romaine_7wk',\n",
    "                        'Vinyard_untrained','Vinyard_vertical_trellis']\n",
    "    elif name == 'PU':\n",
    "        target_names = ['Asphalt','Meadows','Gravel','Trees', 'Painted metal sheets','Bare Soil','Bitumen',\n",
    "                        'Self-Blocking Bricks','Shadows']\n",
    "    \n",
    "    classification = classification_report(np.argmax(y_test, axis=1), y_pred, target_names=target_names)\n",
    "    oa = accuracy_score(np.argmax(y_test, axis=1), y_pred)\n",
    "    confusion = confusion_matrix(np.argmax(y_test, axis=1), y_pred)\n",
    "    each_acc, aa = AA_andEachClassAccuracy(confusion)\n",
    "    kappa = cohen_kappa_score(np.argmax(y_test, axis=1), y_pred)\n",
    "    score = model.evaluate(X_test, y_test, batch_size=32)\n",
    "    Test_Loss =  score[0]*100\n",
    "    Test_accuracy = score[1]*100\n",
    "    \n",
    "    return classification, confusion, Test_Loss, Test_accuracy, oa*100, each_acc*100, aa*100, kappa*100"
   ]
  },
  {
   "cell_type": "code",
   "execution_count": 30,
   "metadata": {},
   "outputs": [
    {
     "name": "stdout",
     "output_type": "stream",
     "text": [
      "7175/7175 [==============================] - 2s 280us/step\n"
     ]
    }
   ],
   "source": [
    "classification, confusion, Test_loss, Test_accuracy, oa, each_acc, aa, kappa = reports(Xtest,ytest,dataset)\n",
    "classification = str(classification)\n",
    "confusion = str(confusion)\n",
    "file_name = \"classification_report.txt\"\n",
    "\n",
    "with open(file_name, 'w') as x_file:\n",
    "    x_file.write('{} Test loss (%)'.format(Test_loss))\n",
    "    x_file.write('\\n')\n",
    "    x_file.write('{} Test accuracy (%)'.format(Test_accuracy))\n",
    "    x_file.write('\\n')\n",
    "    x_file.write('\\n')\n",
    "    x_file.write('{} Kappa accuracy (%)'.format(kappa))\n",
    "    x_file.write('\\n')\n",
    "    x_file.write('{} Overall accuracy (%)'.format(oa))\n",
    "    x_file.write('\\n')\n",
    "    x_file.write('{} Average accuracy (%)'.format(aa))\n",
    "    x_file.write('\\n')\n",
    "    x_file.write('\\n')\n",
    "    x_file.write('{}'.format(classification))\n",
    "    x_file.write('\\n')\n",
    "    x_file.write('{}'.format(confusion))"
   ]
  },
  {
   "cell_type": "code",
   "execution_count": 31,
   "metadata": {},
   "outputs": [],
   "source": [
    "def Patch(data,height_index,width_index):\n",
    "    height_slice = slice(height_index, height_index+PATCH_SIZE)\n",
    "    width_slice = slice(width_index, width_index+PATCH_SIZE)\n",
    "    patch = data[height_slice, width_slice, :]\n",
    "    \n",
    "    return patch"
   ]
  },
  {
   "cell_type": "code",
   "execution_count": 32,
   "metadata": {},
   "outputs": [],
   "source": [
    "# load the original image\n",
    "X, y = loadData(dataset)"
   ]
  },
  {
   "cell_type": "code",
   "execution_count": 33,
   "metadata": {},
   "outputs": [],
   "source": [
    "height = y.shape[0]\n",
    "width = y.shape[1]\n",
    "PATCH_SIZE = windowSize\n",
    "numComponents = K"
   ]
  },
  {
   "cell_type": "code",
   "execution_count": 34,
   "metadata": {},
   "outputs": [],
   "source": [
    "X,pca = applyPCA(X, numComponents=numComponents)"
   ]
  },
  {
   "cell_type": "code",
   "execution_count": 35,
   "metadata": {},
   "outputs": [],
   "source": [
    "X = padWithZeros(X, PATCH_SIZE//2)"
   ]
  },
  {
   "cell_type": "code",
   "execution_count": 36,
   "metadata": {},
   "outputs": [],
   "source": [
    "# calculate the predicted image\n",
    "outputs = np.zeros((height,width))\n",
    "for i in range(height):\n",
    "    for j in range(width):\n",
    "        target = int(y[i,j])\n",
    "        if target == 0 :\n",
    "            continue\n",
    "        else :\n",
    "            image_patch=Patch(X,i,j)\n",
    "            X_test_image = image_patch.reshape(1,image_patch.shape[0],image_patch.shape[1], image_patch.shape[2], 1).astype('float32')                                   \n",
    "            prediction = (model.predict(X_test_image))\n",
    "            prediction = np.argmax(prediction, axis=1)\n",
    "            outputs[i][j] = prediction+1"
   ]
  },
  {
   "cell_type": "code",
   "execution_count": 37,
   "metadata": {},
   "outputs": [
    {
     "data": {
      "image/png": "[encoded data removed]",
      "text/plain": [
       "<Figure size 504x504 with 1 Axes>"
      ]
     },
     "metadata": {
      "needs_background": "light"
     },
     "output_type": "display_data"
    }
   ],
   "source": [
    "ground_truth = spectral.imshow(classes = y,figsize =(7,7))"
   ]
  },
  {
   "cell_type": "code",
   "execution_count": 38,
   "metadata": {},
   "outputs": [
    {
     "data": {
      "image/png": "[encoded data removed]",
      "text/plain": [
       "<Figure size 504x504 with 1 Axes>"
      ]
     },
     "metadata": {
      "needs_background": "light"
     },
     "output_type": "display_data"
    }
   ],
   "source": [
    "predict_image = spectral.imshow(classes = outputs.astype(int),figsize =(7,7))"
   ]
  },
  {
   "cell_type": "code",
   "execution_count": 39,
   "metadata": {},
   "outputs": [],
   "source": [
    "spectral.save_rgb(\"predictions.jpg\", outputs.astype(int), colors=spectral.spy_colors)"
   ]
  },
  {
   "cell_type": "code",
   "execution_count": null,
   "metadata": {},
   "outputs": [],
   "source": []
  }
 ],
 "metadata": {
  "kernelspec": {
   "display_name": "Python 3",
   "language": "python",
   "name": "python3"
  },
  "language_info": {
   "codemirror_mode": {
    "name": "ipython",
    "version": 3
   },
   "file_extension": ".py",
   "mimetype": "text/x-python",
   "name": "python",
   "nbconvert_exporter": "python",
   "pygments_lexer": "ipython3",
   "version": "3.6.6"
  }
 },
 "nbformat": 4,
 "nbformat_minor": 4
}
