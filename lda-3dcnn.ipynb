{
 "cells": [
  {
   "cell_type": "code",
   "execution_count": 1,
   "metadata": {
    "_cell_guid": "b1076dfc-b9ad-4769-8c92-a6c4dae69d19",
    "_uuid": "8f2839f25d086af736a60e9eeb907d3b93b6e0e5"
   },
   "outputs": [
    {
     "name": "stderr",
     "output_type": "stream",
     "text": [
      "Using TensorFlow backend.\n"
     ]
    }
   ],
   "source": [
    "import keras\n",
    "from keras.layers import Conv3D,MaxPool3D,Flatten, Dense, Reshape\n",
    "from keras.layers import Dropout, Input,BatchNormalization\n",
    "from keras.models import Model\n",
    "from keras.optimizers import Adam\n",
    "from keras.callbacks import ModelCheckpoint\n",
    "from keras.utils import np_utils"
   ]
  },
  {
   "cell_type": "code",
   "execution_count": 2,
   "metadata": {
    "_cell_guid": "79c7e3d0-c299-4dcb-8224-4455121ee9b0",
    "_uuid": "d629ff2d2480ee46fbb7e2d37f6b5fab8052498a"
   },
   "outputs": [
    {
     "data": {
      "text/html": [
       "        <script type=\"text/javascript\">\n",
       "        window.PlotlyConfig = {MathJaxConfig: 'local'};\n",
       "        if (window.MathJax) {MathJax.Hub.Config({SVG: {font: \"STIX-Web\"}});}\n",
       "        if (typeof require !== 'undefined') {\n",
       "        require.undef(\"plotly\");\n",
       "        requirejs.config({\n",
       "            paths: {\n",
       "                'plotly': ['https://cdn.plot.ly/plotly-latest.min']\n",
       "            }\n",
       "        });\n",
       "        require(['plotly'], function(Plotly) {\n",
       "            window._Plotly = Plotly;\n",
       "        });\n",
       "        }\n",
       "        </script>\n",
       "        "
      ]
     },
     "metadata": {},
     "output_type": "display_data"
    }
   ],
   "source": [
    "from sklearn.discriminant_analysis import LinearDiscriminantAnalysis as LDA\n",
    "from sklearn.model_selection import train_test_split\n",
    "from sklearn.metrics import confusion_matrix, accuracy_score, classification_report, cohen_kappa_score\n",
    "\n",
    "from operator import truediv\n",
    "\n",
    "\n",
    "from plotly.offline import init_notebook_mode\n",
    "\n",
    "import numpy as np\n",
    "import matplotlib.pyplot as plt\n",
    "import scipy.io as sio\n",
    "import os\n",
    "import spectral\n",
    "\n",
    "init_notebook_mode(connected=True)\n",
    "%matplotlib inline"
   ]
  },
  {
   "cell_type": "code",
   "execution_count": 3,
   "metadata": {},
   "outputs": [],
   "source": [
    "## GLOBAL VARIABLES\n",
    "dataset = 'IP'\n",
    "test_ratio = 0.8\n",
    "windowSize = 25"
   ]
  },
  {
   "cell_type": "code",
   "execution_count": 4,
   "metadata": {},
   "outputs": [],
   "source": [
    "def loadData(name):\n",
    "    \n",
    "    if name == 'IP':\n",
    "        data = sio.loadmat('../input/hsi-dataset/Indian_pines_corrected.mat')['indian_pines_corrected']\n",
    "        labels = sio.loadmat('../input/hsi-dataset/Indian_pines_gt.mat')['indian_pines_gt']\n",
    "    elif name == 'SA':\n",
    "        data = sio.loadmat(os.path.join(data_path, 'Salinas_corrected.mat'))['salinas_corrected']\n",
    "        labels = sio.loadmat(os.path.join(data_path, 'Salinas_gt.mat'))['salinas_gt']\n",
    "    elif name == 'PU':\n",
    "        data = sio.loadmat(os.path.join(data_path, 'PaviaU.mat'))['paviaU']\n",
    "        labels = sio.loadmat(os.path.join(data_path, 'PaviaU_gt.mat'))['paviaU_gt']\n",
    "    \n",
    "    return data, labels"
   ]
  },
  {
   "cell_type": "code",
   "execution_count": 5,
   "metadata": {},
   "outputs": [],
   "source": [
    "def splitTrainTestSet(X, y, testRatio, randomState=345):\n",
    "    X_train, X_test, y_train, y_test = train_test_split(X, y, test_size=testRatio, random_state=randomState,\n",
    "                                                        stratify=y)\n",
    "    return X_train, X_test, y_train, y_test"
   ]
  },
  {
   "cell_type": "code",
   "execution_count": 6,
   "metadata": {},
   "outputs": [],
   "source": [
    "def applyLDA(X,y):\n",
    "    newX=np.reshape(X, (-1, X.shape[2]))\n",
    "    y=np.reshape(y,(-1,1))\n",
    "    lda=LDA()\n",
    "    newX = lda.fit_transform(newX,y.ravel())\n",
    "    newX = np.reshape(newX, (X.shape[0],X.shape[1],newX.shape[1]))\n",
    "    return newX"
   ]
  },
  {
   "cell_type": "code",
   "execution_count": 7,
   "metadata": {},
   "outputs": [],
   "source": [
    "def padWithZeros(X, margin=2):\n",
    "    newX = np.zeros((X.shape[0] + 2 * margin, X.shape[1] + 2* margin, X.shape[2]))\n",
    "    x_offset = margin\n",
    "    y_offset = margin\n",
    "    newX[x_offset:X.shape[0] + x_offset, y_offset:X.shape[1] + y_offset, :] = X\n",
    "    return newX"
   ]
  },
  {
   "cell_type": "code",
   "execution_count": 8,
   "metadata": {},
   "outputs": [],
   "source": [
    "def createImageCubes(X, y, windowSize=5, removeZeroLabels = True):\n",
    "    margin = int((windowSize - 1) / 2)\n",
    "    zeroPaddedX = padWithZeros(X, margin=margin)\n",
    "    # split patches\n",
    "    patchesData = np.zeros((X.shape[0] * X.shape[1], windowSize, windowSize, X.shape[2]))\n",
    "    patchesLabels = np.zeros((X.shape[0] * X.shape[1]))\n",
    "    patchIndex = 0\n",
    "    for r in range(margin, zeroPaddedX.shape[0] - margin):\n",
    "        for c in range(margin, zeroPaddedX.shape[1] - margin):\n",
    "            patch = zeroPaddedX[r - margin:r + margin + 1, c - margin:c + margin + 1]   \n",
    "            patchesData[patchIndex, :, :, :] = patch\n",
    "            patchesLabels[patchIndex] = y[r-margin, c-margin]\n",
    "            patchIndex = patchIndex + 1\n",
    "    if removeZeroLabels:\n",
    "        patchesData = patchesData[patchesLabels>0,:,:,:]\n",
    "        patchesLabels = patchesLabels[patchesLabels>0]\n",
    "        patchesLabels -= 1\n",
    "    return patchesData, patchesLabels"
   ]
  },
  {
   "cell_type": "code",
   "execution_count": 9,
   "metadata": {},
   "outputs": [],
   "source": [
    "X, y = loadData(dataset)"
   ]
  },
  {
   "cell_type": "code",
   "execution_count": 10,
   "metadata": {},
   "outputs": [],
   "source": [
    " X= applyLDA(X,y)"
   ]
  },
  {
   "cell_type": "code",
   "execution_count": 11,
   "metadata": {},
   "outputs": [
    {
     "data": {
      "text/plain": [
       "(145, 145, 16)"
      ]
     },
     "execution_count": 11,
     "metadata": {},
     "output_type": "execute_result"
    }
   ],
   "source": [
    "X.shape"
   ]
  },
  {
   "cell_type": "code",
   "execution_count": 12,
   "metadata": {},
   "outputs": [
    {
     "data": {
      "text/plain": [
       "16"
      ]
     },
     "execution_count": 12,
     "metadata": {},
     "output_type": "execute_result"
    }
   ],
   "source": [
    "K = X.shape[2]\n",
    "\n",
    "K"
   ]
  },
  {
   "cell_type": "code",
   "execution_count": 13,
   "metadata": {},
   "outputs": [
    {
     "data": {
      "text/plain": [
       "((10249, 25, 25, 16), (10249,))"
      ]
     },
     "execution_count": 13,
     "metadata": {},
     "output_type": "execute_result"
    }
   ],
   "source": [
    "X, y = createImageCubes(X, y, windowSize=windowSize)\n",
    "\n",
    "X.shape, y.shape"
   ]
  },
  {
   "cell_type": "code",
   "execution_count": 14,
   "metadata": {},
   "outputs": [
    {
     "data": {
      "text/plain": [
       "((2049, 25, 25, 16), (8200, 25, 25, 16), (2049,), (8200,))"
      ]
     },
     "execution_count": 14,
     "metadata": {},
     "output_type": "execute_result"
    }
   ],
   "source": [
    "Xtrain, Xtest, ytrain, ytest = splitTrainTestSet(X, y, test_ratio)\n",
    "\n",
    "Xtrain.shape, Xtest.shape, ytrain.shape, ytest.shape"
   ]
  },
  {
   "cell_type": "markdown",
   "execution_count": null,
   "metadata": {},
   "source": [
    "*MODELING AND TRAINING****"
   ]
  },
  {
   "cell_type": "code",
   "execution_count": 15,
   "metadata": {},
   "outputs": [
    {
     "data": {
      "text/plain": [
       "(2049, 25, 25, 16, 1)"
      ]
     },
     "execution_count": 15,
     "metadata": {},
     "output_type": "execute_result"
    }
   ],
   "source": [
    "Xtrain = Xtrain.reshape(-1, windowSize, windowSize, K, 1)\n",
    "Xtrain.shape"
   ]
  },
  {
   "cell_type": "code",
   "execution_count": 16,
   "metadata": {},
   "outputs": [
    {
     "data": {
      "text/plain": [
       "(2049, 16)"
      ]
     },
     "execution_count": 16,
     "metadata": {},
     "output_type": "execute_result"
    }
   ],
   "source": [
    "ytrain = np_utils.to_categorical(ytrain)\n",
    "ytrain.shape"
   ]
  },
  {
   "cell_type": "code",
   "execution_count": 17,
   "metadata": {},
   "outputs": [],
   "source": [
    "S = windowSize\n",
    "L = K\n",
    "output_units = 9 if (dataset == 'PU' or dataset == 'PC') else 16"
   ]
  },
  {
   "cell_type": "code",
   "execution_count": 18,
   "metadata": {},
   "outputs": [],
   "source": [
    "## input layer\n",
    "input_layer = Input((S, S, L, 1))\n",
    "\n",
    "## convolutional layers\n",
    "conv_layer1 = Conv3D(filters=8, kernel_size=(3, 3, 7), activation='relu')(input_layer)\n",
    "conv_layer2 = Conv3D(filters=16, kernel_size=(3, 3, 5), activation='relu')(conv_layer1)\n",
    "pooling_layer1 = MaxPool3D(pool_size=(2, 2, 2))(conv_layer2)\n",
    "conv_layer3 = Conv3D(filters=32, kernel_size=(3, 3, 3), activation='relu')(conv_layer2)\n",
    "pooling_layer2 = MaxPool3D(pool_size=(2, 2, 2))(conv_layer3)\n",
    "pooling_layer2 = BatchNormalization()(pooling_layer2)\n",
    "flatten_layer = Flatten()(pooling_layer2) \n",
    "\n",
    "## fully connected layers\n",
    "dense_layer1 = Dense(units=256, activation='relu')(flatten_layer)\n",
    "dense_layer1 = Dropout(0.4)(dense_layer1)\n",
    "dense_layer2 = Dense(units=128, activation='relu')(dense_layer1)\n",
    "dense_layer2 = Dropout(0.4)(dense_layer2)\n",
    "output_layer = Dense(units=output_units, activation='softmax')(dense_layer2)"
   ]
  },
  {
   "cell_type": "code",
   "execution_count": 19,
   "metadata": {},
   "outputs": [],
   "source": [
    "# define the model with input layer and output layer\n",
    "model = Model(inputs=input_layer, outputs=output_layer)"
   ]
  },
  {
   "cell_type": "code",
   "execution_count": 20,
   "metadata": {},
   "outputs": [
    {
     "name": "stdout",
     "output_type": "stream",
     "text": [
      "Model: \"model_1\"\n",
      "_________________________________________________________________\n",
      "Layer (type)                 Output Shape              Param #   \n",
      "=================================================================\n",
      "input_1 (InputLayer)         (None, 25, 25, 16, 1)     0         \n",
      "_________________________________________________________________\n",
      "conv3d_1 (Conv3D)            (None, 23, 23, 10, 8)     512       \n",
      "_________________________________________________________________\n",
      "conv3d_2 (Conv3D)            (None, 21, 21, 6, 16)     5776      \n",
      "_________________________________________________________________\n",
      "conv3d_3 (Conv3D)            (None, 19, 19, 4, 32)     13856     \n",
      "_________________________________________________________________\n",
      "max_pooling3d_2 (MaxPooling3 (None, 9, 9, 2, 32)       0         \n",
      "_________________________________________________________________\n",
      "batch_normalization_1 (Batch (None, 9, 9, 2, 32)       128       \n",
      "_________________________________________________________________\n",
      "flatten_1 (Flatten)          (None, 5184)              0         \n",
      "_________________________________________________________________\n",
      "dense_1 (Dense)              (None, 256)               1327360   \n",
      "_________________________________________________________________\n",
      "dropout_1 (Dropout)          (None, 256)               0         \n",
      "_________________________________________________________________\n",
      "dense_2 (Dense)              (None, 128)               32896     \n",
      "_________________________________________________________________\n",
      "dropout_2 (Dropout)          (None, 128)               0         \n",
      "_________________________________________________________________\n",
      "dense_3 (Dense)              (None, 16)                2064      \n",
      "=================================================================\n",
      "Total params: 1,382,592\n",
      "Trainable params: 1,382,528\n",
      "Non-trainable params: 64\n",
      "_________________________________________________________________\n"
     ]
    }
   ],
   "source": [
    "model.summary()"
   ]
  },
  {
   "cell_type": "code",
   "execution_count": 21,
   "metadata": {},
   "outputs": [],
   "source": [
    "adam = Adam(lr=0.001, decay=1e-06)\n",
    "model.compile(loss='categorical_crossentropy', optimizer=adam, metrics=['accuracy'])"
   ]
  },
  {
   "cell_type": "code",
   "execution_count": 22,
   "metadata": {},
   "outputs": [],
   "source": [
    "# checkpoint\n",
    "filepath = \"best-model.hdf5\"\n",
    "checkpoint = ModelCheckpoint(filepath, monitor='accuracy', verbose=1, save_best_only=True, mode='max')\n",
    "callbacks_list = [checkpoint]"
   ]
  },
  {
   "cell_type": "code",
   "execution_count": 23,
   "metadata": {},
   "outputs": [
    {
     "name": "stdout",
     "output_type": "stream",
     "text": [
      "Epoch 1/100\n",
      "2049/2049 [==============================] - 5s 2ms/step - loss: 2.0118 - accuracy: 0.4202\n",
      "\n",
      "Epoch 00001: accuracy improved from -inf to 0.42020, saving model to best-model.hdf5\n",
      "Epoch 2/100\n",
      "2049/2049 [==============================] - 0s 209us/step - loss: 0.6212 - accuracy: 0.7960\n",
      "\n",
      "Epoch 00002: accuracy improved from 0.42020 to 0.79600, saving model to best-model.hdf5\n",
      "Epoch 3/100\n",
      "2049/2049 [==============================] - 0s 209us/step - loss: 0.2763 - accuracy: 0.9092\n",
      "\n",
      "Epoch 00003: accuracy improved from 0.79600 to 0.90922, saving model to best-model.hdf5\n",
      "Epoch 4/100\n",
      "2049/2049 [==============================] - 0s 217us/step - loss: 0.1728 - accuracy: 0.9488\n",
      "\n",
      "Epoch 00004: accuracy improved from 0.90922 to 0.94876, saving model to best-model.hdf5\n",
      "Epoch 5/100\n",
      "2049/2049 [==============================] - 0s 211us/step - loss: 0.1423 - accuracy: 0.9595\n",
      "\n",
      "Epoch 00005: accuracy improved from 0.94876 to 0.95949, saving model to best-model.hdf5\n",
      "Epoch 6/100\n",
      "2049/2049 [==============================] - 0s 225us/step - loss: 0.2519 - accuracy: 0.9239\n",
      "\n",
      "Epoch 00006: accuracy did not improve from 0.95949\n",
      "Epoch 7/100\n",
      "2049/2049 [==============================] - 0s 221us/step - loss: 0.2478 - accuracy: 0.9234\n",
      "\n",
      "Epoch 00007: accuracy did not improve from 0.95949\n",
      "Epoch 8/100\n",
      "2049/2049 [==============================] - 0s 211us/step - loss: 0.2179 - accuracy: 0.9395\n",
      "\n",
      "Epoch 00008: accuracy did not improve from 0.95949\n",
      "Epoch 9/100\n",
      "2049/2049 [==============================] - 0s 212us/step - loss: 0.1514 - accuracy: 0.9610\n",
      "\n",
      "Epoch 00009: accuracy improved from 0.95949 to 0.96096, saving model to best-model.hdf5\n",
      "Epoch 10/100\n",
      "2049/2049 [==============================] - 0s 213us/step - loss: 0.0987 - accuracy: 0.9717\n",
      "\n",
      "Epoch 00010: accuracy improved from 0.96096 to 0.97169, saving model to best-model.hdf5\n",
      "Epoch 11/100\n",
      "2049/2049 [==============================] - 0s 214us/step - loss: 0.0514 - accuracy: 0.9790\n",
      "\n",
      "Epoch 00011: accuracy improved from 0.97169 to 0.97901, saving model to best-model.hdf5\n",
      "Epoch 12/100\n",
      "2049/2049 [==============================] - 0s 218us/step - loss: 0.0402 - accuracy: 0.9878\n",
      "\n",
      "Epoch 00012: accuracy improved from 0.97901 to 0.98780, saving model to best-model.hdf5\n",
      "Epoch 13/100\n",
      "2049/2049 [==============================] - 0s 209us/step - loss: 0.0320 - accuracy: 0.9922\n",
      "\n",
      "Epoch 00013: accuracy improved from 0.98780 to 0.99219, saving model to best-model.hdf5\n",
      "Epoch 14/100\n",
      "2049/2049 [==============================] - 0s 210us/step - loss: 0.0253 - accuracy: 0.9922\n",
      "\n",
      "Epoch 00014: accuracy did not improve from 0.99219\n",
      "Epoch 15/100\n",
      "2049/2049 [==============================] - 0s 209us/step - loss: 0.1280 - accuracy: 0.9693\n",
      "\n",
      "Epoch 00015: accuracy did not improve from 0.99219\n",
      "Epoch 16/100\n",
      "2049/2049 [==============================] - 0s 209us/step - loss: 0.4570 - accuracy: 0.8956\n",
      "\n",
      "Epoch 00016: accuracy did not improve from 0.99219\n",
      "Epoch 17/100\n",
      "2049/2049 [==============================] - 0s 210us/step - loss: 0.4202 - accuracy: 0.8921\n",
      "\n",
      "Epoch 00017: accuracy did not improve from 0.99219\n",
      "Epoch 18/100\n",
      "2049/2049 [==============================] - 0s 210us/step - loss: 0.5525 - accuracy: 0.8526\n",
      "\n",
      "Epoch 00018: accuracy did not improve from 0.99219\n",
      "Epoch 19/100\n",
      "2049/2049 [==============================] - 0s 208us/step - loss: 0.4945 - accuracy: 0.8814\n",
      "\n",
      "Epoch 00019: accuracy did not improve from 0.99219\n",
      "Epoch 20/100\n",
      "2049/2049 [==============================] - 0s 210us/step - loss: 0.2235 - accuracy: 0.9283\n",
      "\n",
      "Epoch 00020: accuracy did not improve from 0.99219\n",
      "Epoch 21/100\n",
      "2049/2049 [==============================] - 0s 218us/step - loss: 0.1152 - accuracy: 0.9619\n",
      "\n",
      "Epoch 00021: accuracy did not improve from 0.99219\n",
      "Epoch 22/100\n",
      "2049/2049 [==============================] - 0s 221us/step - loss: 0.1246 - accuracy: 0.9605\n",
      "\n",
      "Epoch 00022: accuracy did not improve from 0.99219\n",
      "Epoch 23/100\n",
      "2049/2049 [==============================] - 0s 215us/step - loss: 0.1589 - accuracy: 0.9536\n",
      "\n",
      "Epoch 00023: accuracy did not improve from 0.99219\n",
      "Epoch 24/100\n",
      "2049/2049 [==============================] - 0s 212us/step - loss: 0.1411 - accuracy: 0.9566\n",
      "\n",
      "Epoch 00024: accuracy did not improve from 0.99219\n",
      "Epoch 25/100\n",
      "2049/2049 [==============================] - 0s 210us/step - loss: 0.0969 - accuracy: 0.9688\n",
      "\n",
      "Epoch 00025: accuracy did not improve from 0.99219\n",
      "Epoch 26/100\n",
      "2049/2049 [==============================] - 0s 209us/step - loss: 0.0632 - accuracy: 0.9790\n",
      "\n",
      "Epoch 00026: accuracy did not improve from 0.99219\n",
      "Epoch 27/100\n",
      "2049/2049 [==============================] - 0s 210us/step - loss: 0.2498 - accuracy: 0.9273\n",
      "\n",
      "Epoch 00027: accuracy did not improve from 0.99219\n",
      "Epoch 28/100\n",
      "2049/2049 [==============================] - 0s 209us/step - loss: 0.5272 - accuracy: 0.8673\n",
      "\n",
      "Epoch 00028: accuracy did not improve from 0.99219\n",
      "Epoch 29/100\n",
      "2049/2049 [==============================] - 0s 208us/step - loss: 0.3931 - accuracy: 0.8897\n",
      "\n",
      "Epoch 00029: accuracy did not improve from 0.99219\n",
      "Epoch 30/100\n",
      "2049/2049 [==============================] - 0s 210us/step - loss: 0.2763 - accuracy: 0.9297\n",
      "\n",
      "Epoch 00030: accuracy did not improve from 0.99219\n",
      "Epoch 31/100\n",
      "2049/2049 [==============================] - 0s 210us/step - loss: 0.2890 - accuracy: 0.9151\n",
      "\n",
      "Epoch 00031: accuracy did not improve from 0.99219\n",
      "Epoch 32/100\n",
      "2049/2049 [==============================] - 0s 210us/step - loss: 0.1814 - accuracy: 0.9483\n",
      "\n",
      "Epoch 00032: accuracy did not improve from 0.99219\n",
      "Epoch 33/100\n",
      "2049/2049 [==============================] - 0s 211us/step - loss: 0.1679 - accuracy: 0.9512\n",
      "\n",
      "Epoch 00033: accuracy did not improve from 0.99219\n",
      "Epoch 34/100\n",
      "2049/2049 [==============================] - 0s 210us/step - loss: 0.1225 - accuracy: 0.9624\n",
      "\n",
      "Epoch 00034: accuracy did not improve from 0.99219\n",
      "Epoch 35/100\n",
      "2049/2049 [==============================] - 0s 210us/step - loss: 0.1096 - accuracy: 0.9693\n",
      "\n",
      "Epoch 00035: accuracy did not improve from 0.99219\n",
      "Epoch 36/100\n",
      "2049/2049 [==============================] - 0s 209us/step - loss: 0.1009 - accuracy: 0.9741\n",
      "\n",
      "Epoch 00036: accuracy did not improve from 0.99219\n",
      "Epoch 37/100\n",
      "2049/2049 [==============================] - 0s 210us/step - loss: 0.1001 - accuracy: 0.9746\n",
      "\n",
      "Epoch 00037: accuracy did not improve from 0.99219\n",
      "Epoch 38/100\n",
      "2049/2049 [==============================] - 0s 208us/step - loss: 0.2764 - accuracy: 0.9366\n",
      "\n",
      "Epoch 00038: accuracy did not improve from 0.99219\n",
      "Epoch 39/100\n",
      "2049/2049 [==============================] - 0s 209us/step - loss: 0.7382 - accuracy: 0.8570\n",
      "\n",
      "Epoch 00039: accuracy did not improve from 0.99219\n",
      "Epoch 40/100\n",
      "2049/2049 [==============================] - 0s 209us/step - loss: 0.4464 - accuracy: 0.8926\n",
      "\n",
      "Epoch 00040: accuracy did not improve from 0.99219\n",
      "Epoch 41/100\n",
      "2049/2049 [==============================] - 0s 209us/step - loss: 0.4772 - accuracy: 0.8814\n",
      "\n",
      "Epoch 00041: accuracy did not improve from 0.99219\n",
      "Epoch 42/100\n",
      "2049/2049 [==============================] - 0s 209us/step - loss: 0.3744 - accuracy: 0.9024\n",
      "\n",
      "Epoch 00042: accuracy did not improve from 0.99219\n",
      "Epoch 43/100\n",
      "2049/2049 [==============================] - 0s 209us/step - loss: 0.2582 - accuracy: 0.9327\n",
      "\n",
      "Epoch 00043: accuracy did not improve from 0.99219\n",
      "Epoch 44/100\n",
      "2049/2049 [==============================] - 0s 210us/step - loss: 0.3153 - accuracy: 0.9165\n",
      "\n",
      "Epoch 00044: accuracy did not improve from 0.99219\n",
      "Epoch 45/100\n",
      "2049/2049 [==============================] - 0s 211us/step - loss: 0.2771 - accuracy: 0.9258\n",
      "\n",
      "Epoch 00045: accuracy did not improve from 0.99219\n",
      "Epoch 46/100\n",
      "2049/2049 [==============================] - 0s 216us/step - loss: 0.2103 - accuracy: 0.9444\n",
      "\n",
      "Epoch 00046: accuracy did not improve from 0.99219\n",
      "Epoch 47/100\n",
      "2049/2049 [==============================] - 0s 227us/step - loss: 0.1831 - accuracy: 0.9541\n",
      "\n",
      "Epoch 00047: accuracy did not improve from 0.99219\n",
      "Epoch 48/100\n",
      "2049/2049 [==============================] - 0s 214us/step - loss: 0.1291 - accuracy: 0.9673\n",
      "\n",
      "Epoch 00048: accuracy did not improve from 0.99219\n",
      "Epoch 49/100\n",
      "2049/2049 [==============================] - 0s 210us/step - loss: 0.1129 - accuracy: 0.9649\n",
      "\n",
      "Epoch 00049: accuracy did not improve from 0.99219\n",
      "Epoch 50/100\n",
      "2049/2049 [==============================] - 0s 209us/step - loss: 0.0755 - accuracy: 0.9790\n",
      "\n",
      "Epoch 00050: accuracy did not improve from 0.99219\n",
      "Epoch 51/100\n",
      "2049/2049 [==============================] - 0s 208us/step - loss: 0.0707 - accuracy: 0.9776\n",
      "\n",
      "Epoch 00051: accuracy did not improve from 0.99219\n",
      "Epoch 52/100\n",
      "2049/2049 [==============================] - 0s 208us/step - loss: 0.0690 - accuracy: 0.9780\n",
      "\n",
      "Epoch 00052: accuracy did not improve from 0.99219\n",
      "Epoch 53/100\n",
      "2049/2049 [==============================] - 0s 208us/step - loss: 0.0806 - accuracy: 0.9805\n",
      "\n",
      "Epoch 00053: accuracy did not improve from 0.99219\n",
      "Epoch 54/100\n",
      "2049/2049 [==============================] - 0s 209us/step - loss: 0.0605 - accuracy: 0.9800\n",
      "\n",
      "Epoch 00054: accuracy did not improve from 0.99219\n",
      "Epoch 55/100\n",
      "2049/2049 [==============================] - 0s 208us/step - loss: 0.0679 - accuracy: 0.9771\n",
      "\n",
      "Epoch 00055: accuracy did not improve from 0.99219\n",
      "Epoch 56/100\n",
      "2049/2049 [==============================] - 0s 209us/step - loss: 0.0689 - accuracy: 0.9785\n",
      "\n",
      "Epoch 00056: accuracy did not improve from 0.99219\n",
      "Epoch 57/100\n",
      "2049/2049 [==============================] - 0s 209us/step - loss: 0.0902 - accuracy: 0.9707\n",
      "\n",
      "Epoch 00057: accuracy did not improve from 0.99219\n",
      "Epoch 58/100\n",
      "2049/2049 [==============================] - 0s 209us/step - loss: 0.1307 - accuracy: 0.9634\n",
      "\n",
      "Epoch 00058: accuracy did not improve from 0.99219\n",
      "Epoch 59/100\n",
      "2049/2049 [==============================] - 0s 209us/step - loss: 0.3618 - accuracy: 0.9087\n",
      "\n",
      "Epoch 00059: accuracy did not improve from 0.99219\n",
      "Epoch 60/100\n",
      "2049/2049 [==============================] - 0s 208us/step - loss: 0.3090 - accuracy: 0.9195\n",
      "\n",
      "Epoch 00060: accuracy did not improve from 0.99219\n",
      "Epoch 61/100\n",
      "2049/2049 [==============================] - 0s 210us/step - loss: 0.1741 - accuracy: 0.9507\n",
      "\n",
      "Epoch 00061: accuracy did not improve from 0.99219\n",
      "Epoch 62/100\n",
      "2049/2049 [==============================] - 0s 209us/step - loss: 0.2361 - accuracy: 0.9278\n",
      "\n",
      "Epoch 00062: accuracy did not improve from 0.99219\n",
      "Epoch 63/100\n",
      "2049/2049 [==============================] - 0s 209us/step - loss: 0.3221 - accuracy: 0.9229\n",
      "\n",
      "Epoch 00063: accuracy did not improve from 0.99219\n",
      "Epoch 64/100\n",
      "2049/2049 [==============================] - 0s 212us/step - loss: 0.1973 - accuracy: 0.9458\n",
      "\n",
      "Epoch 00064: accuracy did not improve from 0.99219\n",
      "Epoch 65/100\n",
      "2049/2049 [==============================] - 0s 210us/step - loss: 0.1506 - accuracy: 0.9649\n",
      "\n",
      "Epoch 00065: accuracy did not improve from 0.99219\n",
      "Epoch 66/100\n",
      "2049/2049 [==============================] - 0s 209us/step - loss: 0.1221 - accuracy: 0.9693\n",
      "\n",
      "Epoch 00066: accuracy did not improve from 0.99219\n",
      "Epoch 67/100\n",
      "2049/2049 [==============================] - 0s 208us/step - loss: 0.0759 - accuracy: 0.9751\n",
      "\n",
      "Epoch 00067: accuracy did not improve from 0.99219\n",
      "Epoch 68/100\n",
      "2049/2049 [==============================] - 0s 209us/step - loss: 0.0760 - accuracy: 0.9785\n",
      "\n",
      "Epoch 00068: accuracy did not improve from 0.99219\n",
      "Epoch 69/100\n",
      "2049/2049 [==============================] - 0s 209us/step - loss: 0.0640 - accuracy: 0.9771\n",
      "\n",
      "Epoch 00069: accuracy did not improve from 0.99219\n",
      "Epoch 70/100\n",
      "2049/2049 [==============================] - 0s 210us/step - loss: 0.0555 - accuracy: 0.9810\n",
      "\n",
      "Epoch 00070: accuracy did not improve from 0.99219\n",
      "Epoch 71/100\n",
      "2049/2049 [==============================] - 0s 210us/step - loss: 0.0425 - accuracy: 0.9873\n",
      "\n",
      "Epoch 00071: accuracy did not improve from 0.99219\n",
      "Epoch 72/100\n",
      "2049/2049 [==============================] - 0s 224us/step - loss: 0.0473 - accuracy: 0.9893\n",
      "\n",
      "Epoch 00072: accuracy did not improve from 0.99219\n",
      "Epoch 73/100\n",
      "2049/2049 [==============================] - 0s 215us/step - loss: 0.0372 - accuracy: 0.9849\n",
      "\n",
      "Epoch 00073: accuracy did not improve from 0.99219\n",
      "Epoch 74/100\n",
      "2049/2049 [==============================] - 0s 217us/step - loss: 0.0422 - accuracy: 0.9878\n",
      "\n",
      "Epoch 00074: accuracy did not improve from 0.99219\n",
      "Epoch 75/100\n",
      "2049/2049 [==============================] - 0s 211us/step - loss: 0.0258 - accuracy: 0.9927\n",
      "\n",
      "Epoch 00075: accuracy improved from 0.99219 to 0.99268, saving model to best-model.hdf5\n",
      "Epoch 76/100\n",
      "2049/2049 [==============================] - 0s 213us/step - loss: 0.0439 - accuracy: 0.9839\n",
      "\n",
      "Epoch 00076: accuracy did not improve from 0.99268\n",
      "Epoch 77/100\n",
      "2049/2049 [==============================] - 0s 224us/step - loss: 0.0832 - accuracy: 0.9800\n",
      "\n",
      "Epoch 00077: accuracy did not improve from 0.99268\n",
      "Epoch 78/100\n",
      "2049/2049 [==============================] - 0s 215us/step - loss: 0.0798 - accuracy: 0.9722\n",
      "\n",
      "Epoch 00078: accuracy did not improve from 0.99268\n",
      "Epoch 79/100\n",
      "2049/2049 [==============================] - 1s 259us/step - loss: 0.0765 - accuracy: 0.9810\n",
      "\n",
      "Epoch 00079: accuracy did not improve from 0.99268\n",
      "Epoch 80/100\n",
      "2049/2049 [==============================] - 0s 233us/step - loss: 0.0739 - accuracy: 0.9810\n",
      "\n",
      "Epoch 00080: accuracy did not improve from 0.99268\n",
      "Epoch 81/100\n",
      "2049/2049 [==============================] - 0s 210us/step - loss: 0.0641 - accuracy: 0.9829\n",
      "\n",
      "Epoch 00081: accuracy did not improve from 0.99268\n",
      "Epoch 82/100\n",
      "2049/2049 [==============================] - 0s 211us/step - loss: 0.0457 - accuracy: 0.9893\n",
      "\n",
      "Epoch 00082: accuracy did not improve from 0.99268\n",
      "Epoch 83/100\n",
      "2049/2049 [==============================] - 0s 220us/step - loss: 0.0240 - accuracy: 0.9927\n",
      "\n",
      "Epoch 00083: accuracy did not improve from 0.99268\n",
      "Epoch 84/100\n",
      "2049/2049 [==============================] - 0s 211us/step - loss: 0.0635 - accuracy: 0.9819\n",
      "\n",
      "Epoch 00084: accuracy did not improve from 0.99268\n",
      "Epoch 85/100\n",
      "2049/2049 [==============================] - 0s 222us/step - loss: 0.1157 - accuracy: 0.9732\n",
      "\n",
      "Epoch 00085: accuracy did not improve from 0.99268\n",
      "Epoch 86/100\n",
      "2049/2049 [==============================] - 0s 224us/step - loss: 0.0885 - accuracy: 0.9722\n",
      "\n",
      "Epoch 00086: accuracy did not improve from 0.99268\n",
      "Epoch 87/100\n",
      "2049/2049 [==============================] - 0s 214us/step - loss: 0.0640 - accuracy: 0.9805\n",
      "\n",
      "Epoch 00087: accuracy did not improve from 0.99268\n",
      "Epoch 88/100\n",
      "2049/2049 [==============================] - 0s 211us/step - loss: 0.0765 - accuracy: 0.9780\n",
      "\n",
      "Epoch 00088: accuracy did not improve from 0.99268\n",
      "Epoch 89/100\n",
      "2049/2049 [==============================] - 0s 210us/step - loss: 0.0607 - accuracy: 0.9844\n",
      "\n",
      "Epoch 00089: accuracy did not improve from 0.99268\n",
      "Epoch 90/100\n",
      "2049/2049 [==============================] - 0s 211us/step - loss: 0.0450 - accuracy: 0.9839\n",
      "\n",
      "Epoch 00090: accuracy did not improve from 0.99268\n",
      "Epoch 91/100\n",
      "2049/2049 [==============================] - 0s 210us/step - loss: 0.0434 - accuracy: 0.9873\n",
      "\n",
      "Epoch 00091: accuracy did not improve from 0.99268\n",
      "Epoch 92/100\n",
      "2049/2049 [==============================] - 0s 218us/step - loss: 0.0509 - accuracy: 0.9839\n",
      "\n",
      "Epoch 00092: accuracy did not improve from 0.99268\n",
      "Epoch 93/100\n",
      "2049/2049 [==============================] - 0s 211us/step - loss: 0.1323 - accuracy: 0.9693\n",
      "\n",
      "Epoch 00093: accuracy did not improve from 0.99268\n",
      "Epoch 94/100\n",
      "2049/2049 [==============================] - 0s 226us/step - loss: 0.1916 - accuracy: 0.9527\n",
      "\n",
      "Epoch 00094: accuracy did not improve from 0.99268\n",
      "Epoch 95/100\n",
      "2049/2049 [==============================] - 0s 218us/step - loss: 0.1714 - accuracy: 0.9644\n",
      "\n",
      "Epoch 00095: accuracy did not improve from 0.99268\n",
      "Epoch 96/100\n",
      "2049/2049 [==============================] - 0s 217us/step - loss: 0.3854 - accuracy: 0.9248\n",
      "\n",
      "Epoch 00096: accuracy did not improve from 0.99268\n",
      "Epoch 97/100\n",
      "2049/2049 [==============================] - 0s 208us/step - loss: 0.3098 - accuracy: 0.9361\n",
      "\n",
      "Epoch 00097: accuracy did not improve from 0.99268\n",
      "Epoch 98/100\n",
      "2049/2049 [==============================] - 0s 212us/step - loss: 0.3085 - accuracy: 0.9429\n",
      "\n",
      "Epoch 00098: accuracy did not improve from 0.99268\n",
      "Epoch 99/100\n",
      "2049/2049 [==============================] - 0s 215us/step - loss: 0.3843 - accuracy: 0.9322\n",
      "\n",
      "Epoch 00099: accuracy did not improve from 0.99268\n",
      "Epoch 100/100\n",
      "2049/2049 [==============================] - 0s 209us/step - loss: 0.5025 - accuracy: 0.9156\n",
      "\n",
      "Epoch 00100: accuracy did not improve from 0.99268\n"
     ]
    }
   ],
   "source": [
    "history = model.fit(x=Xtrain, y=ytrain, batch_size=256, epochs=100, callbacks=callbacks_list)"
   ]
  },
  {
   "cell_type": "code",
   "execution_count": 24,
   "metadata": {},
   "outputs": [],
   "source": [
    "# load best weights\n",
    "model.load_weights(\"best-model.hdf5\")\n",
    "model.compile(loss='categorical_crossentropy', optimizer=adam, metrics=['accuracy'])"
   ]
  },
  {
   "cell_type": "code",
   "execution_count": 25,
   "metadata": {},
   "outputs": [
    {
     "data": {
      "text/plain": [
       "(8200, 25, 25, 16, 1)"
      ]
     },
     "execution_count": 25,
     "metadata": {},
     "output_type": "execute_result"
    }
   ],
   "source": [
    "Xtest = Xtest.reshape(-1, windowSize, windowSize, K, 1)\n",
    "Xtest.shape"
   ]
  },
  {
   "cell_type": "code",
   "execution_count": 26,
   "metadata": {},
   "outputs": [
    {
     "data": {
      "text/plain": [
       "(8200, 16)"
      ]
     },
     "execution_count": 26,
     "metadata": {},
     "output_type": "execute_result"
    }
   ],
   "source": [
    "ytest = np_utils.to_categorical(ytest)\n",
    "ytest.shape"
   ]
  },
  {
   "cell_type": "code",
   "execution_count": 27,
   "metadata": {},
   "outputs": [
    {
     "name": "stdout",
     "output_type": "stream",
     "text": [
      "              precision    recall  f1-score   support\n",
      "\n",
      "           0       1.00      1.00      1.00        37\n",
      "           1       0.99      0.98      0.98      1143\n",
      "           2       0.99      0.98      0.98       664\n",
      "           3       0.96      1.00      0.98       190\n",
      "           4       0.98      1.00      0.99       386\n",
      "           5       0.98      0.98      0.98       584\n",
      "           6       1.00      1.00      1.00        22\n",
      "           7       1.00      1.00      1.00       382\n",
      "           8       0.80      1.00      0.89        16\n",
      "           9       0.97      1.00      0.98       778\n",
      "          10       0.99      0.97      0.98      1964\n",
      "          11       0.98      0.96      0.97       475\n",
      "          12       1.00      1.00      1.00       164\n",
      "          13       0.98      1.00      0.99      1012\n",
      "          14       0.98      1.00      0.99       309\n",
      "          15       0.89      0.97      0.93        74\n",
      "\n",
      "    accuracy                           0.98      8200\n",
      "   macro avg       0.97      0.99      0.98      8200\n",
      "weighted avg       0.98      0.98      0.98      8200\n",
      "\n"
     ]
    }
   ],
   "source": [
    "Y_pred_test = model.predict(Xtest)\n",
    "y_pred_test = np.argmax(Y_pred_test, axis=1)\n",
    "\n",
    "classification = classification_report(np.argmax(ytest, axis=1), y_pred_test)\n",
    "print(classification)"
   ]
  },
  {
   "cell_type": "code",
   "execution_count": 28,
   "metadata": {},
   "outputs": [],
   "source": [
    "def AA_andEachClassAccuracy(confusion_matrix):\n",
    "    counter = confusion_matrix.shape[0]\n",
    "    list_diag = np.diag(confusion_matrix)\n",
    "    list_raw_sum = np.sum(confusion_matrix, axis=1)\n",
    "    each_acc = np.nan_to_num(truediv(list_diag, list_raw_sum))\n",
    "    average_acc = np.mean(each_acc)\n",
    "    return each_acc, average_acc"
   ]
  },
  {
   "cell_type": "code",
   "execution_count": 29,
   "metadata": {},
   "outputs": [],
   "source": [
    "def reports (X_test,y_test,name):\n",
    "    #start = time.time()\n",
    "    Y_pred = model.predict(X_test)\n",
    "    y_pred = np.argmax(Y_pred, axis=1)\n",
    "    #end = time.time()\n",
    "    #print(end - start)\n",
    "    if name == 'IP':\n",
    "        target_names = ['Alfalfa', 'Corn-notill', 'Corn-mintill', 'Corn'\n",
    "                        ,'Grass-pasture', 'Grass-trees', 'Grass-pasture-mowed', \n",
    "                        'Hay-windrowed', 'Oats', 'Soybean-notill', 'Soybean-mintill',\n",
    "                        'Soybean-clean', 'Wheat', 'Woods', 'Buildings-Grass-Trees-Drives',\n",
    "                        'Stone-Steel-Towers']\n",
    "    elif name == 'SA':\n",
    "        target_names = ['Brocoli_green_weeds_1','Brocoli_green_weeds_2','Fallow','Fallow_rough_plow','Fallow_smooth',\n",
    "                        'Stubble','Celery','Grapes_untrained','Soil_vinyard_develop','Corn_senesced_green_weeds',\n",
    "                        'Lettuce_romaine_4wk','Lettuce_romaine_5wk','Lettuce_romaine_6wk','Lettuce_romaine_7wk',\n",
    "                        'Vinyard_untrained','Vinyard_vertical_trellis']\n",
    "    elif name == 'PU':\n",
    "        target_names = ['Asphalt','Meadows','Gravel','Trees', 'Painted metal sheets','Bare Soil','Bitumen',\n",
    "                        'Self-Blocking Bricks','Shadows']\n",
    "    \n",
    "    classification = classification_report(np.argmax(y_test, axis=1), y_pred, target_names=target_names)\n",
    "    oa = accuracy_score(np.argmax(y_test, axis=1), y_pred)\n",
    "    confusion = confusion_matrix(np.argmax(y_test, axis=1), y_pred)\n",
    "    each_acc, aa = AA_andEachClassAccuracy(confusion)\n",
    "    kappa = cohen_kappa_score(np.argmax(y_test, axis=1), y_pred)\n",
    "    score = model.evaluate(X_test, y_test, batch_size=32)\n",
    "    Test_Loss =  score[0]*100\n",
    "    Test_accuracy = score[1]*100\n",
    "    \n",
    "    return classification, confusion, Test_Loss, Test_accuracy, oa*100, each_acc*100, aa*100, kappa*100"
   ]
  },
  {
   "cell_type": "code",
   "execution_count": 30,
   "metadata": {},
   "outputs": [
    {
     "name": "stdout",
     "output_type": "stream",
     "text": [
      "8200/8200 [==============================] - 1s 155us/step\n"
     ]
    }
   ],
   "source": [
    "classification, confusion, Test_loss, Test_accuracy, oa, each_acc, aa, kappa = reports(Xtest,ytest,dataset)\n",
    "classification = str(classification)\n",
    "confusion = str(confusion)\n",
    "file_name = \"classification_report.txt\"\n",
    "\n",
    "with open(file_name, 'w') as x_file:\n",
    "    x_file.write('{} Test loss (%)'.format(Test_loss))\n",
    "    x_file.write('\\n')\n",
    "    x_file.write('{} Test accuracy (%)'.format(Test_accuracy))\n",
    "    x_file.write('\\n')\n",
    "    x_file.write('\\n')\n",
    "    x_file.write('{} Kappa accuracy (%)'.format(kappa))\n",
    "    x_file.write('\\n')\n",
    "    x_file.write('{} Overall accuracy (%)'.format(oa))\n",
    "    x_file.write('\\n')\n",
    "    x_file.write('{} Average accuracy (%)'.format(aa))\n",
    "    x_file.write('\\n')\n",
    "    x_file.write('\\n')\n",
    "    x_file.write('{}'.format(classification))\n",
    "    x_file.write('\\n')\n",
    "    x_file.write('{}'.format(confusion))"
   ]
  },
  {
   "cell_type": "code",
   "execution_count": 31,
   "metadata": {},
   "outputs": [],
   "source": [
    "def Patch(data,height_index,width_index):\n",
    "    height_slice = slice(height_index, height_index+PATCH_SIZE)\n",
    "    width_slice = slice(width_index, width_index+PATCH_SIZE)\n",
    "    patch = data[height_slice, width_slice, :]\n",
    "    \n",
    "    return patch"
   ]
  },
  {
   "cell_type": "code",
   "execution_count": 32,
   "metadata": {},
   "outputs": [],
   "source": [
    "# load the original image\n",
    "X, y = loadData(dataset)"
   ]
  },
  {
   "cell_type": "code",
   "execution_count": 33,
   "metadata": {},
   "outputs": [],
   "source": [
    "height = y.shape[0]\n",
    "width = y.shape[1]\n",
    "PATCH_SIZE = windowSize\n",
    "numComponents = K"
   ]
  },
  {
   "cell_type": "code",
   "execution_count": 34,
   "metadata": {},
   "outputs": [],
   "source": [
    "X= applyLDA(X,y)"
   ]
  },
  {
   "cell_type": "code",
   "execution_count": 35,
   "metadata": {},
   "outputs": [],
   "source": [
    "X = padWithZeros(X, PATCH_SIZE//2)"
   ]
  },
  {
   "cell_type": "code",
   "execution_count": 36,
   "metadata": {},
   "outputs": [],
   "source": [
    "# calculate the predicted image\n",
    "outputs = np.zeros((height,width))\n",
    "for i in range(height):\n",
    "    for j in range(width):\n",
    "        target = int(y[i,j])\n",
    "        if target == 0 :\n",
    "            continue\n",
    "        else :\n",
    "            image_patch=Patch(X,i,j)\n",
    "            X_test_image = image_patch.reshape(1,image_patch.shape[0],image_patch.shape[1], image_patch.shape[2], 1).astype('float32')                                   \n",
    "            prediction = (model.predict(X_test_image))\n",
    "            prediction = np.argmax(prediction, axis=1)\n",
    "            outputs[i][j] = prediction+1"
   ]
  },
  {
   "cell_type": "code",
   "execution_count": 37,
   "metadata": {},
   "outputs": [
    {
     "data": {
      "image/png": "[encoded data removed]",
      "text/plain": [
       "<Figure size 504x504 with 1 Axes>"
      ]
     },
     "metadata": {
      "needs_background": "light"
     },
     "output_type": "display_data"
    }
   ],
   "source": [
    "ground_truth = spectral.imshow(classes = y,figsize =(7,7))"
   ]
  },
  {
   "cell_type": "code",
   "execution_count": 38,
   "metadata": {},
   "outputs": [
    {
     "data": {
      "image/png": "[encoded data removed]",
      "text/plain": [
       "<Figure size 504x504 with 1 Axes>"
      ]
     },
     "metadata": {
      "needs_background": "light"
     },
     "output_type": "display_data"
    }
   ],
   "source": [
    "predict_image = spectral.imshow(classes = outputs.astype(int),figsize =(7,7))"
   ]
  },
  {
   "cell_type": "code",
   "execution_count": 39,
   "metadata": {},
   "outputs": [],
   "source": [
    "spectral.save_rgb(\"predictions.jpg\", outputs.astype(int), colors=spectral.spy_colors)"
   ]
  },
  {
   "cell_type": "code",
   "execution_count": null,
   "metadata": {},
   "outputs": [],
   "source": []
  }
 ],
 "metadata": {
  "kernelspec": {
   "display_name": "Python 3",
   "language": "python",
   "name": "python3"
  },
  "language_info": {
   "codemirror_mode": {
    "name": "ipython",
    "version": 3
   },
   "file_extension": ".py",
   "mimetype": "text/x-python",
   "name": "python",
   "nbconvert_exporter": "python",
   "pygments_lexer": "ipython3",
   "version": "3.6.6"
  }
 },
 "nbformat": 4,
 "nbformat_minor": 4
}
